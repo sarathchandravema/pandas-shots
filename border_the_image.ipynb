{
 "cells": [
  {
   "cell_type": "code",
   "execution_count": 1,
   "id": "d2657c61",
   "metadata": {},
   "outputs": [],
   "source": [
    "# import matplotlib.image as mpimg\n",
    "# import matplotlib.pyplot as plt\n",
    "import numpy as np\n",
    "import pandas as pd"
   ]
  },
  {
   "cell_type": "code",
   "execution_count": 2,
   "id": "96d40524",
   "metadata": {},
   "outputs": [],
   "source": [
    "import cv2"
   ]
  },
  {
   "cell_type": "code",
   "execution_count": 3,
   "id": "173589fe",
   "metadata": {},
   "outputs": [],
   "source": [
    "# img = mpimg.imread('../resized_nearest.jpg')"
   ]
  },
  {
   "cell_type": "code",
   "execution_count": 4,
   "id": "08402b5a",
   "metadata": {},
   "outputs": [],
   "source": [
    "img=cv2.imread('../resized_nearest.jpg')"
   ]
  },
  {
   "cell_type": "code",
   "execution_count": 5,
   "id": "acbaec9e",
   "metadata": {},
   "outputs": [],
   "source": [
    "# data = np.asarray(img)"
   ]
  },
  {
   "cell_type": "code",
   "execution_count": 6,
   "id": "1bd027c1",
   "metadata": {},
   "outputs": [],
   "source": [
    "mewd = np.pad(img, ((20,20), (20, 20), (0,0)))"
   ]
  },
  {
   "cell_type": "code",
   "execution_count": 7,
   "id": "e1335442",
   "metadata": {},
   "outputs": [],
   "source": [
    "data = pd.DataFrame(mewd.reshape(460*355, 3))"
   ]
  },
  {
   "cell_type": "code",
   "execution_count": 8,
   "id": "a2776a05",
   "metadata": {},
   "outputs": [],
   "source": [
    "data.to_csv('output.csv', index=False)"
   ]
  },
  {
   "cell_type": "code",
   "execution_count": 9,
   "id": "7155567d",
   "metadata": {},
   "outputs": [],
   "source": [
    "# np.savetxt('output.csv', mewd, delimiter=',', fmt='%s')"
   ]
  }
 ],
 "metadata": {
  "kernelspec": {
   "display_name": "Python 3",
   "language": "python",
   "name": "python3"
  },
  "language_info": {
   "codemirror_mode": {
    "name": "ipython",
    "version": 3
   },
   "file_extension": ".py",
   "mimetype": "text/x-python",
   "name": "python",
   "nbconvert_exporter": "python",
   "pygments_lexer": "ipython3",
   "version": "3.7.0"
  }
 },
 "nbformat": 4,
 "nbformat_minor": 5
}
